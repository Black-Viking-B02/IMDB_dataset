{
  "nbformat": 4,
  "nbformat_minor": 0,
  "metadata": {
    "colab": {
      "name": "NewsClassification.ipynb",
      "provenance": [],
      "collapsed_sections": [],
      "authorship_tag": "ABX9TyNZGwSBRLGYK+1GnQ/T0C4+",
      "include_colab_link": true
    },
    "kernelspec": {
      "name": "python3",
      "display_name": "Python 3"
    }
  },
  "cells": [
    {
      "cell_type": "markdown",
      "metadata": {
        "id": "view-in-github",
        "colab_type": "text"
      },
      "source": [
        "<a href=\"https://colab.research.google.com/github/Black-Viking-B02/IMDB_dataset/blob/main/NewsClassification.ipynb\" target=\"_parent\"><img src=\"https://colab.research.google.com/assets/colab-badge.svg\" alt=\"Open In Colab\"/></a>"
      ]
    },
    {
      "cell_type": "markdown",
      "metadata": {
        "id": "rZM2SLvk10Kc"
      },
      "source": [
        "#Multi-Class Classification\r\n",
        "\r\n",
        "In this notebook, we'll build a a network to classify Reuters newswires into 46 exclusive topics.\r\n"
      ]
    },
    {
      "cell_type": "markdown",
      "metadata": {
        "id": "i8PmNh0x2TIr"
      },
      "source": [
        "## 1-Loading the Dataset\r\n",
        "The Reuters dataset comes packaged as part of Keras."
      ]
    },
    {
      "cell_type": "code",
      "metadata": {
        "colab": {
          "base_uri": "https://localhost:8080/"
        },
        "id": "p73QbI3I2dzr",
        "outputId": "e21df982-91ae-4e34-f545-6ae903a08d1d"
      },
      "source": [
        "from keras.datasets import reuters\r\n",
        "(train_data , train_labels) , (test_data, test_labels) =reuters.load_data(\r\n",
        "    num_words=10000\r\n",
        ")"
      ],
      "execution_count": 2,
      "outputs": [
        {
          "output_type": "stream",
          "text": [
            "Downloading data from https://storage.googleapis.com/tensorflow/tf-keras-datasets/reuters.npz\n",
            "2113536/2110848 [==============================] - 0s 0us/step\n"
          ],
          "name": "stdout"
        },
        {
          "output_type": "stream",
          "text": [
            "/usr/local/lib/python3.7/dist-packages/tensorflow/python/keras/datasets/reuters.py:148: VisibleDeprecationWarning: Creating an ndarray from ragged nested sequences (which is a list-or-tuple of lists-or-tuples-or ndarrays with different lengths or shapes) is deprecated. If you meant to do this, you must specify 'dtype=object' when creating the ndarray\n",
            "  x_train, y_train = np.array(xs[:idx]), np.array(labels[:idx])\n",
            "/usr/local/lib/python3.7/dist-packages/tensorflow/python/keras/datasets/reuters.py:149: VisibleDeprecationWarning: Creating an ndarray from ragged nested sequences (which is a list-or-tuple of lists-or-tuples-or ndarrays with different lengths or shapes) is deprecated. If you meant to do this, you must specify 'dtype=object' when creating the ndarray\n",
            "  x_test, y_test = np.array(xs[idx:]), np.array(labels[idx:])\n"
          ],
          "name": "stderr"
        }
      ]
    },
    {
      "cell_type": "markdown",
      "metadata": {
        "id": "sGQvy9tc3DMK"
      },
      "source": [
        "As with the IMDB reviews, each example is a list of integers."
      ]
    },
    {
      "cell_type": "code",
      "metadata": {
        "colab": {
          "base_uri": "https://localhost:8080/"
        },
        "id": "oWZXrbIl3J9K",
        "outputId": "cc74e1a8-09f3-4171-8c22-5746da3828f5"
      },
      "source": [
        "train_data[10]"
      ],
      "execution_count": 3,
      "outputs": [
        {
          "output_type": "execute_result",
          "data": {
            "text/plain": [
              "[1,\n",
              " 245,\n",
              " 273,\n",
              " 207,\n",
              " 156,\n",
              " 53,\n",
              " 74,\n",
              " 160,\n",
              " 26,\n",
              " 14,\n",
              " 46,\n",
              " 296,\n",
              " 26,\n",
              " 39,\n",
              " 74,\n",
              " 2979,\n",
              " 3554,\n",
              " 14,\n",
              " 46,\n",
              " 4689,\n",
              " 4329,\n",
              " 86,\n",
              " 61,\n",
              " 3499,\n",
              " 4795,\n",
              " 14,\n",
              " 61,\n",
              " 451,\n",
              " 4329,\n",
              " 17,\n",
              " 12]"
            ]
          },
          "metadata": {
            "tags": []
          },
          "execution_count": 3
        }
      ]
    },
    {
      "cell_type": "markdown",
      "metadata": {
        "id": "sdBOulgS3jZi"
      },
      "source": [
        "## 2-Preparing the Data\r\n",
        "You can vectorize the data with the exact same code as in the previous example:"
      ]
    },
    {
      "cell_type": "code",
      "metadata": {
        "id": "17kCV6_g30Tj"
      },
      "source": [
        "import numpy as np\r\n",
        "def vectorize_sequences(sequences, dimension=10000):\r\n",
        "  results=np.zeros((len(sequences), dimension))\r\n",
        "  for i, sequence in enumerate(sequences):\r\n",
        "    results[i,sequence] = 1\r\n",
        "  return results\r\n",
        "\r\n",
        "x_train= vectorize_sequences(train_data)\r\n",
        "x_test= vectorize_sequences(test_data)"
      ],
      "execution_count": 4,
      "outputs": []
    },
    {
      "cell_type": "markdown",
      "metadata": {
        "id": "RbvB9c9L4jYF"
      },
      "source": [
        "The label associated with an example is an integer between 0 and 45.\r\n",
        "To vectorize the labels, there are two options: You can cast the label list as \r\n",
        "an integer tensor, or you can use one-hot coding. In this case, one-hot encoding of\r\n",
        "the labels consists of embedding each label as an all-zero vector with a 1 in the place of\r\n",
        "the label index."
      ]
    },
    {
      "cell_type": "code",
      "metadata": {
        "id": "WtGP_MZE5SNe"
      },
      "source": [
        "from keras.utils.np_utils import to_categorical\r\n",
        "one_hot_train_labels = to_categorical(train_labels)\r\n",
        "one_hot_test_labels = to_categorical(test_labels)"
      ],
      "execution_count": 5,
      "outputs": []
    },
    {
      "cell_type": "markdown",
      "metadata": {
        "id": "OlgqggJ75lU0"
      },
      "source": [
        "## 3-Building Your Network\r\n",
        "The number of output classes has gone from 2 to 46. The dimensionality of the output space is much larger."
      ]
    },
    {
      "cell_type": "code",
      "metadata": {
        "id": "bQcCak9BwsFr"
      },
      "source": [
        "from keras import models\r\n",
        "from keras import layers\r\n",
        "model = models.Sequential()\r\n",
        "model.add(layers.Dense(64, activation='relu', input_shape=(10000,)))\r\n",
        "model.add(layers.Dense(64, activation='relu'))\r\n",
        "model.add(layers.Dense(46, activation='softmax'))\r\n"
      ],
      "execution_count": 7,
      "outputs": []
    },
    {
      "cell_type": "markdown",
      "metadata": {
        "id": "iCUFrtZWxJAg"
      },
      "source": [
        "The last layer uses a softmax activation. You saw this pattern in the MNIST\r\n",
        "example. It means the network will output a probability distribution over the 46\r\n",
        "different output classes—for every input sample, the network will produce a 46-\r\n",
        "dimensional output vector, where output[i] is the probability that the sample\r\n",
        "belongs to class i. The 46 scores will sum to 1."
      ]
    },
    {
      "cell_type": "code",
      "metadata": {
        "id": "UeiR9O79xQrm"
      },
      "source": [
        "model.compile(optimizer='rmsprop',\r\n",
        "loss='categorical_crossentropy',\r\n",
        "metrics=['accuracy'])"
      ],
      "execution_count": 8,
      "outputs": []
    },
    {
      "cell_type": "markdown",
      "metadata": {
        "id": "W99sbFm1xx0w"
      },
      "source": [
        "## 4-Validating Your Model\r\n",
        "Let's set apart 1000 samples in the training data to use as a validation set."
      ]
    },
    {
      "cell_type": "code",
      "metadata": {
        "id": "De03XfWbx-W2"
      },
      "source": [
        "x_val = x_train[:1000]\r\n",
        "partial_x_train = x_train[1000:]\r\n",
        "y_val = one_hot_train_labels[:1000]\r\n",
        "partial_y_train = one_hot_train_labels[1000:]"
      ],
      "execution_count": 9,
      "outputs": []
    },
    {
      "cell_type": "code",
      "metadata": {
        "colab": {
          "base_uri": "https://localhost:8080/"
        },
        "id": "amuWJpwVyCQO",
        "outputId": "d3f64fa2-aa1d-46ae-c4b4-5041c32cbd04"
      },
      "source": [
        "history = model.fit(partial_x_train,\r\n",
        "partial_y_train,\r\n",
        "epochs=20,\r\n",
        "batch_size=512,\r\n",
        "validation_data=(x_val, y_val))"
      ],
      "execution_count": 10,
      "outputs": [
        {
          "output_type": "stream",
          "text": [
            "Epoch 1/20\n",
            "16/16 [==============================] - 1s 51ms/step - loss: 2.9567 - accuracy: 0.4547 - val_loss: 1.5802 - val_accuracy: 0.6570\n",
            "Epoch 2/20\n",
            "16/16 [==============================] - 1s 37ms/step - loss: 1.4107 - accuracy: 0.6970 - val_loss: 1.2605 - val_accuracy: 0.7220\n",
            "Epoch 3/20\n",
            "16/16 [==============================] - 1s 37ms/step - loss: 1.0383 - accuracy: 0.7714 - val_loss: 1.1168 - val_accuracy: 0.7520\n",
            "Epoch 4/20\n",
            "16/16 [==============================] - 1s 37ms/step - loss: 0.8178 - accuracy: 0.8206 - val_loss: 1.0177 - val_accuracy: 0.7830\n",
            "Epoch 5/20\n",
            "16/16 [==============================] - 1s 38ms/step - loss: 0.6151 - accuracy: 0.8708 - val_loss: 0.9555 - val_accuracy: 0.7970\n",
            "Epoch 6/20\n",
            "16/16 [==============================] - 1s 37ms/step - loss: 0.5052 - accuracy: 0.8953 - val_loss: 0.9259 - val_accuracy: 0.8150\n",
            "Epoch 7/20\n",
            "16/16 [==============================] - 1s 37ms/step - loss: 0.4084 - accuracy: 0.9118 - val_loss: 0.9061 - val_accuracy: 0.8050\n",
            "Epoch 8/20\n",
            "16/16 [==============================] - 1s 37ms/step - loss: 0.3371 - accuracy: 0.9290 - val_loss: 0.9019 - val_accuracy: 0.8140\n",
            "Epoch 9/20\n",
            "16/16 [==============================] - 1s 37ms/step - loss: 0.2677 - accuracy: 0.9395 - val_loss: 0.9259 - val_accuracy: 0.8030\n",
            "Epoch 10/20\n",
            "16/16 [==============================] - 1s 37ms/step - loss: 0.2218 - accuracy: 0.9488 - val_loss: 0.9048 - val_accuracy: 0.8160\n",
            "Epoch 11/20\n",
            "16/16 [==============================] - 1s 36ms/step - loss: 0.1914 - accuracy: 0.9513 - val_loss: 0.9118 - val_accuracy: 0.8230\n",
            "Epoch 12/20\n",
            "16/16 [==============================] - 1s 37ms/step - loss: 0.1610 - accuracy: 0.9555 - val_loss: 0.9580 - val_accuracy: 0.8110\n",
            "Epoch 13/20\n",
            "16/16 [==============================] - 1s 38ms/step - loss: 0.1523 - accuracy: 0.9539 - val_loss: 0.9586 - val_accuracy: 0.8160\n",
            "Epoch 14/20\n",
            "16/16 [==============================] - 1s 37ms/step - loss: 0.1377 - accuracy: 0.9564 - val_loss: 0.9549 - val_accuracy: 0.8120\n",
            "Epoch 15/20\n",
            "16/16 [==============================] - 1s 37ms/step - loss: 0.1206 - accuracy: 0.9605 - val_loss: 0.9896 - val_accuracy: 0.8090\n",
            "Epoch 16/20\n",
            "16/16 [==============================] - 1s 36ms/step - loss: 0.1178 - accuracy: 0.9612 - val_loss: 1.0133 - val_accuracy: 0.8150\n",
            "Epoch 17/20\n",
            "16/16 [==============================] - 1s 37ms/step - loss: 0.1074 - accuracy: 0.9609 - val_loss: 1.0102 - val_accuracy: 0.8060\n",
            "Epoch 18/20\n",
            "16/16 [==============================] - 1s 37ms/step - loss: 0.1074 - accuracy: 0.9592 - val_loss: 1.0879 - val_accuracy: 0.8010\n",
            "Epoch 19/20\n",
            "16/16 [==============================] - 1s 37ms/step - loss: 0.1016 - accuracy: 0.9615 - val_loss: 1.0652 - val_accuracy: 0.7980\n",
            "Epoch 20/20\n",
            "16/16 [==============================] - 1s 37ms/step - loss: 0.0972 - accuracy: 0.9641 - val_loss: 1.0909 - val_accuracy: 0.7950\n"
          ],
          "name": "stdout"
        }
      ]
    },
    {
      "cell_type": "code",
      "metadata": {
        "colab": {
          "base_uri": "https://localhost:8080/",
          "height": 295
        },
        "id": "naRRP1JxyJWj",
        "outputId": "dc006b36-1e0e-4390-e89d-b9b75e7204f9"
      },
      "source": [
        "import matplotlib.pyplot as plt\r\n",
        "loss = history.history['loss']\r\n",
        "val_loss = history.history['val_loss']\r\n",
        "epochs = range(1, len(loss) + 1)\r\n",
        "plt.plot(epochs, loss, 'bo', label='Training loss')\r\n",
        "plt.plot(epochs, val_loss, 'b', label='Validation loss')\r\n",
        "plt.title('Training and validation loss')\r\n",
        "plt.xlabel('Epochs')\r\n",
        "plt.ylabel('Loss')\r\n",
        "plt.legend()\r\n",
        "plt.show()"
      ],
      "execution_count": 11,
      "outputs": [
        {
          "output_type": "display_data",
          "data": {
            "image/png": "[encoded data removed]",
            "text/plain": [
              "<Figure size 432x288 with 1 Axes>"
            ]
          },
          "metadata": {
            "tags": [],
            "needs_background": "light"
          }
        }
      ]
    },
    {
      "cell_type": "code",
      "metadata": {
        "colab": {
          "base_uri": "https://localhost:8080/",
          "height": 248
        },
        "id": "vXVza503yNmu",
        "outputId": "46120719-c10b-4586-8147-3e6b6c265458"
      },
      "source": [
        "plt.clf()\r\n",
        "acc = history.history['acc']\r\n",
        "val_acc = history.history['val_acc']\r\n",
        "plt.plot(epochs, acc, 'bo', label='Training acc')\r\n",
        "plt.plot(epochs, val_acc, 'b', label='Validation acc')\r\n",
        "plt.title('Training and validation accuracy')\r\n",
        "plt.xlabel('Epochs')\r\n",
        "plt.ylabel('Loss')\r\n",
        "plt.legend()\r\n",
        "plt.show()"
      ],
      "execution_count": 13,
      "outputs": [
        {
          "output_type": "error",
          "ename": "KeyError",
          "evalue": "ignored",
          "traceback": [
            "\u001b[0;31m---------------------------------------------------------------------------\u001b[0m",
            "\u001b[0;31mKeyError\u001b[0m                                  Traceback (most recent call last)",
            "\u001b[0;32m<ipython-input-13-7f0c3cdf3410>\u001b[0m in \u001b[0;36m<module>\u001b[0;34m()\u001b[0m\n\u001b[1;32m      1\u001b[0m \u001b[0mplt\u001b[0m\u001b[0;34m.\u001b[0m\u001b[0mclf\u001b[0m\u001b[0;34m(\u001b[0m\u001b[0;34m)\u001b[0m\u001b[0;34m\u001b[0m\u001b[0;34m\u001b[0m\u001b[0m\n\u001b[0;32m----> 2\u001b[0;31m \u001b[0macc\u001b[0m \u001b[0;34m=\u001b[0m \u001b[0mhistory\u001b[0m\u001b[0;34m.\u001b[0m\u001b[0mhistory\u001b[0m\u001b[0;34m[\u001b[0m\u001b[0;34m'acc'\u001b[0m\u001b[0;34m]\u001b[0m\u001b[0;34m\u001b[0m\u001b[0;34m\u001b[0m\u001b[0m\n\u001b[0m\u001b[1;32m      3\u001b[0m \u001b[0mval_acc\u001b[0m \u001b[0;34m=\u001b[0m \u001b[0mhistory\u001b[0m\u001b[0;34m.\u001b[0m\u001b[0mhistory\u001b[0m\u001b[0;34m[\u001b[0m\u001b[0;34m'val_acc'\u001b[0m\u001b[0;34m]\u001b[0m\u001b[0;34m\u001b[0m\u001b[0;34m\u001b[0m\u001b[0m\n\u001b[1;32m      4\u001b[0m \u001b[0mplt\u001b[0m\u001b[0;34m.\u001b[0m\u001b[0mplot\u001b[0m\u001b[0;34m(\u001b[0m\u001b[0mepochs\u001b[0m\u001b[0;34m,\u001b[0m \u001b[0macc\u001b[0m\u001b[0;34m,\u001b[0m \u001b[0;34m'bo'\u001b[0m\u001b[0;34m,\u001b[0m \u001b[0mlabel\u001b[0m\u001b[0;34m=\u001b[0m\u001b[0;34m'Training acc'\u001b[0m\u001b[0;34m)\u001b[0m\u001b[0;34m\u001b[0m\u001b[0;34m\u001b[0m\u001b[0m\n\u001b[1;32m      5\u001b[0m \u001b[0mplt\u001b[0m\u001b[0;34m.\u001b[0m\u001b[0mplot\u001b[0m\u001b[0;34m(\u001b[0m\u001b[0mepochs\u001b[0m\u001b[0;34m,\u001b[0m \u001b[0mval_acc\u001b[0m\u001b[0;34m,\u001b[0m \u001b[0;34m'b'\u001b[0m\u001b[0;34m,\u001b[0m \u001b[0mlabel\u001b[0m\u001b[0;34m=\u001b[0m\u001b[0;34m'Validation acc'\u001b[0m\u001b[0;34m)\u001b[0m\u001b[0;34m\u001b[0m\u001b[0;34m\u001b[0m\u001b[0m\n",
            "\u001b[0;31mKeyError\u001b[0m: 'acc'"
          ]
        },
        {
          "output_type": "display_data",
          "data": {
            "text/plain": [
              "<Figure size 432x288 with 0 Axes>"
            ]
          },
          "metadata": {
            "tags": []
          }
        }
      ]
    }
  ]
}